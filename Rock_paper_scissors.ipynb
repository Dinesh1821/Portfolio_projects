{
 "cells": [
  {
   "cell_type": "code",
   "execution_count": null,
   "id": "6da09f1b-af6b-4a2a-b6be-eabc812d8d4e",
   "metadata": {},
   "outputs": [],
   "source": [
    "import random\n",
    "options=(\"rock\",\"paper\",\"scissors\")\n",
    "running=True\n",
    "you_win,comp_win=0,0\n",
    "\n",
    "while running: \n",
    "    player_choice=None\n",
    "    computer_choice=random.choice(options)\n",
    "        \n",
    "    while player_choice not in options:\n",
    "        player_choice=input(\"Enter the choice(rock, paper, scissors)\")\n",
    "    print(f\"your choice: {player_choice}\")\n",
    "    print(f\"computer choice: {computer_choice}\")\n",
    "    if player_choice==computer_choice:\n",
    "        print(\"It's a tie!\")\n",
    "    elif player_choice==\"rock\" and computer_choice=='scissors':\n",
    "        you_win+=1\n",
    "        print(\"You win!\")\n",
    "    elif player_choice==\"paper\" and computer_choice=='rock':\n",
    "        you_win+=1\n",
    "        print(\"You win!\")\n",
    "    elif player_choice=='scissors' and computer_choice=='paper':\n",
    "        you_win+=1\n",
    "        print(\"You win!\")\n",
    "    else:\n",
    "        comp_win+=1\n",
    "        print(\"You loose!\")\n",
    "    play_again=input(\"Play_again(y/n)?\").lower()\n",
    "    if not play_again=='y':\n",
    "        running=False\n",
    "if you_win>comp_win:\n",
    "    print(\"Congratulations you are the winner!\")\n",
    "elif you_win<comp_win:\n",
    "    print(\"Better luck next time\")\n",
    "else:\n",
    "    print(\"Its a tie!\")\n",
    "    \n",
    "print(\"Thanks for playing!\")"
   ]
  }
 ],
 "metadata": {
  "kernelspec": {
   "display_name": "Python 3 (ipykernel)",
   "language": "python",
   "name": "python3"
  },
  "language_info": {
   "codemirror_mode": {
    "name": "ipython",
    "version": 3
   },
   "file_extension": ".py",
   "mimetype": "text/x-python",
   "name": "python",
   "nbconvert_exporter": "python",
   "pygments_lexer": "ipython3",
   "version": "3.11.7"
  }
 },
 "nbformat": 4,
 "nbformat_minor": 5
}
